{
 "cells": [
  {
   "cell_type": "code",
   "execution_count": 12,
   "metadata": {},
   "outputs": [],
   "source": [
    "import pandas as pd"
   ]
  },
  {
   "cell_type": "code",
   "execution_count": 15,
   "metadata": {},
   "outputs": [],
   "source": [
    "df = pd.read_csv('../data/CONSULTA-LUGAR-DE-APLICACION-EVALUACION-PSc-QSM6.csv')"
   ]
  },
  {
   "cell_type": "code",
   "execution_count": 17,
   "metadata": {},
   "outputs": [
    {
     "name": "stdout",
     "output_type": "stream",
     "text": [
      "<class 'pandas.core.frame.DataFrame'>\n",
      "RangeIndex: 41434 entries, 0 to 41433\n",
      "Data columns (total 13 columns):\n",
      "Cedula                41434 non-null int64\n",
      "HORA                  41434 non-null object\n",
      "NUM LABORATORIO       41434 non-null object\n",
      "Num_dia               41434 non-null object\n",
      "Nombre                41434 non-null object\n",
      "Provincia             41434 non-null object\n",
      "Canton                41434 non-null object\n",
      "Parroquia             41434 non-null object\n",
      "Zona                  41434 non-null object\n",
      "Nombre_institucion    41434 non-null object\n",
      "Amie_institucion      41434 non-null object\n",
      "DIRECCION             41434 non-null object\n",
      "tipo_prueba           41434 non-null object\n",
      "dtypes: int64(1), object(12)\n",
      "memory usage: 36.5 MB\n"
     ]
    }
   ],
   "source": [
    "df.info(memory_usage='deep')"
   ]
  },
  {
   "cell_type": "code",
   "execution_count": 18,
   "metadata": {},
   "outputs": [
    {
     "name": "stderr",
     "output_type": "stream",
     "text": [
      "/home/carlos/Escritorio/2_Ciclo/Ob_Lim_Datos/Entornos-datos/env05/lib/python3.5/site-packages/ipykernel_launcher.py:4: FutureWarning: '.reindex_axis' is deprecated and will be removed in a future version. Use '.reindex' instead.\n",
      "  after removing the cwd from sys.path.\n"
     ]
    }
   ],
   "source": [
    "df_nuevo = pd.concat([\n",
    "        df.select_dtypes([], ['object']),\n",
    "        df.select_dtypes(['object']).apply(pd.Series.astype, dtype='category')\n",
    "        ], axis=1).reindex_axis(df.columns, axis=1)"
   ]
  },
  {
   "cell_type": "code",
   "execution_count": 19,
   "metadata": {},
   "outputs": [
    {
     "name": "stdout",
     "output_type": "stream",
     "text": [
      "<class 'pandas.core.frame.DataFrame'>\n",
      "RangeIndex: 41434 entries, 0 to 41433\n",
      "Data columns (total 13 columns):\n",
      "Cedula                41434 non-null int64\n",
      "HORA                  41434 non-null category\n",
      "NUM LABORATORIO       41434 non-null category\n",
      "Num_dia               41434 non-null category\n",
      "Nombre                41434 non-null category\n",
      "Provincia             41434 non-null category\n",
      "Canton                41434 non-null category\n",
      "Parroquia             41434 non-null category\n",
      "Zona                  41434 non-null category\n",
      "Nombre_institucion    41434 non-null category\n",
      "Amie_institucion      41434 non-null category\n",
      "DIRECCION             41434 non-null category\n",
      "tipo_prueba           41434 non-null category\n",
      "dtypes: category(12), int64(1)\n",
      "memory usage: 6.0 MB\n"
     ]
    }
   ],
   "source": [
    "df_nuevo.info(memory_usage='deep')"
   ]
  },
  {
   "cell_type": "code",
   "execution_count": 24,
   "metadata": {},
   "outputs": [],
   "source": [
    "df_nuevo['Cedula'] = df_nuevo['Cedula'].astype('int8')"
   ]
  },
  {
   "cell_type": "code",
   "execution_count": 25,
   "metadata": {},
   "outputs": [
    {
     "name": "stdout",
     "output_type": "stream",
     "text": [
      "<class 'pandas.core.frame.DataFrame'>\n",
      "RangeIndex: 41434 entries, 0 to 41433\n",
      "Data columns (total 13 columns):\n",
      "Cedula                41434 non-null int8\n",
      "HORA                  41434 non-null category\n",
      "NUM LABORATORIO       41434 non-null category\n",
      "Num_dia               41434 non-null category\n",
      "Nombre                41434 non-null category\n",
      "Provincia             41434 non-null category\n",
      "Canton                41434 non-null category\n",
      "Parroquia             41434 non-null category\n",
      "Zona                  41434 non-null category\n",
      "Nombre_institucion    41434 non-null category\n",
      "Amie_institucion      41434 non-null category\n",
      "DIRECCION             41434 non-null category\n",
      "tipo_prueba           41434 non-null category\n",
      "dtypes: category(12), int8(1)\n",
      "memory usage: 5.7 MB\n"
     ]
    }
   ],
   "source": [
    "df_nuevo.info(memory_usage='deep')\n",
    "    "
   ]
  },
  {
   "cell_type": "code",
   "execution_count": null,
   "metadata": {},
   "outputs": [],
   "source": []
  }
 ],
 "metadata": {
  "kernelspec": {
   "display_name": "Python 3",
   "language": "python",
   "name": "python3"
  },
  "language_info": {
   "codemirror_mode": {
    "name": "ipython",
    "version": 3
   },
   "file_extension": ".py",
   "mimetype": "text/x-python",
   "name": "python",
   "nbconvert_exporter": "python",
   "pygments_lexer": "ipython3",
   "version": "3.5.2"
  }
 },
 "nbformat": 4,
 "nbformat_minor": 2
}
